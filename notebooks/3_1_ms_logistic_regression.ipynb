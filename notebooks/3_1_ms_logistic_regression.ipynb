{
 "cells": [
  {
   "cell_type": "markdown",
   "metadata": {},
   "source": [
    "# Packages"
   ]
  },
  {
   "cell_type": "code",
   "execution_count": 17,
   "metadata": {},
   "outputs": [],
   "source": [
    "# Data manipulation\n",
    "import pandas as pd\n",
    "import numpy as np\n",
    "\n",
    "# Models\n",
    "from sklearn.linear_model import LogisticRegression\n",
    "from sklearn.dummy import DummyClassifier\n",
    "\n",
    "# Metrics\n",
    "from sklearn.metrics import accuracy_score, f1_score, recall_score, precision_score\n",
    "\n",
    "# Visualization\n",
    "import matplotlib.pyplot as plt\n",
    "import seaborn as sns\n",
    "\n",
    "# Others\n",
    "import os\n",
    "\n",
    "# Setting parameters\n",
    "sns.set_palette(\"dark\")\n",
    "sns.set_style(\"whitegrid\")\n",
    "\n",
    "os.chdir(r'J:\\Estudo\\Projetos\\telecom_churn_prediction\\data')"
   ]
  },
  {
   "cell_type": "markdown",
   "metadata": {},
   "source": [
    "# Train/Test Data"
   ]
  },
  {
   "cell_type": "code",
   "execution_count": 18,
   "metadata": {},
   "outputs": [
    {
     "name": "stdout",
     "output_type": "stream",
     "text": [
      "Train data shape: (4930, 21)\n",
      "Test data shape: (1056, 21)\n"
     ]
    }
   ],
   "source": [
    "# Train\n",
    "df_train = pd.read_csv('train.csv')\n",
    "x_train = df_train.drop(columns = 'Churn')\n",
    "y_train = df_train[['Churn']]\n",
    "print(f'Train data shape: {df_train.shape}')\n",
    "\n",
    "# Test\n",
    "df_test = pd.read_csv('test.csv')\n",
    "x_test = df_test.drop(columns = 'Churn')\n",
    "y_test = df_test[['Churn']]\n",
    "print(f'Test data shape: {df_test.shape}')"
   ]
  },
  {
   "cell_type": "markdown",
   "metadata": {},
   "source": [
    "# Baseline\n",
    "- The baseline will be a Dummy Classifier that will predict the Churn based only on the train distribution of 1 (Yes) and 0 (No).\n",
    "- The most important metric will be __Recall Score__, as we need to minimize false negatives to better suit business requirements."
   ]
  },
  {
   "cell_type": "code",
   "execution_count": 26,
   "metadata": {},
   "outputs": [],
   "source": [
    "# Function to aggregate SKLearn score metrics \n",
    "def evaluate_model(model, x, y):\n",
    "\n",
    "    # Using the model to predict new values\n",
    "    y_hat = model.predict(x)\n",
    "\n",
    "    # Calculating the metrics\n",
    "    _accuracy_score = accuracy_score(y, y_hat)\n",
    "    _f1_score = f1_score(y, y_hat)\n",
    "    _recall_score = recall_score(y, y_hat)\n",
    "    _precision_score = precision_score(y, y_hat, zero_division = 0)\n",
    "\n",
    "    # Showing the metrics\n",
    "    print('Model Metrics:')\n",
    "    print(f'Accuracy Score: {_accuracy_score:.2f}')\n",
    "    print(f'F1 Score: {_f1_score:.2f}')\n",
    "    print(f'Recall Score: {_recall_score:.2f}')\n",
    "    print(f'Precision Score: {_precision_score:.2f}')"
   ]
  },
  {
   "cell_type": "code",
   "execution_count": 45,
   "metadata": {},
   "outputs": [
    {
     "name": "stdout",
     "output_type": "stream",
     "text": [
      "Model Metrics:\n",
      "Accuracy Score: 0.60\n",
      "F1 Score: 0.22\n",
      "Recall Score: 0.22\n",
      "Precision Score: 0.21\n"
     ]
    }
   ],
   "source": [
    "# Training Baseline Model\n",
    "baseline = DummyClassifier(\n",
    "    strategy = 'stratified',\n",
    "    random_state = 78\n",
    ").fit(\n",
    "    X = x_train, y = y_train\n",
    ")\n",
    "\n",
    "# Evaluating the baseline \n",
    "evaluate_model(\n",
    "    model = baseline,\n",
    "    x = x_test,\n",
    "    y = y_test\n",
    ")"
   ]
  },
  {
   "cell_type": "markdown",
   "metadata": {},
   "source": [
    "# Preprocessing "
   ]
  },
  {
   "cell_type": "markdown",
   "metadata": {},
   "source": []
  }
 ],
 "metadata": {
  "kernelspec": {
   "display_name": "Python 3",
   "language": "python",
   "name": "python3"
  },
  "language_info": {
   "codemirror_mode": {
    "name": "ipython",
    "version": 3
   },
   "file_extension": ".py",
   "mimetype": "text/x-python",
   "name": "python",
   "nbconvert_exporter": "python",
   "pygments_lexer": "ipython3",
   "version": "3.11.3"
  }
 },
 "nbformat": 4,
 "nbformat_minor": 2
}
